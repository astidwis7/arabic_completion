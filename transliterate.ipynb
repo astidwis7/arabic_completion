{
  "nbformat": 4,
  "nbformat_minor": 0,
  "metadata": {
    "colab": {
      "provenance": [],
      "authorship_tag": "ABX9TyOiZV97llfW0fM51xd7T+Oz",
      "include_colab_link": true
    },
    "kernelspec": {
      "name": "python3",
      "display_name": "Python 3"
    },
    "language_info": {
      "name": "python"
    }
  },
  "cells": [
    {
      "cell_type": "markdown",
      "metadata": {
        "id": "view-in-github",
        "colab_type": "text"
      },
      "source": [
        "<a href=\"https://colab.research.google.com/github/astidwis7/arabic_completion/blob/main/transliterate.ipynb\" target=\"_parent\"><img src=\"https://colab.research.google.com/assets/colab-badge.svg\" alt=\"Open In Colab\"/></a>"
      ]
    },
    {
      "cell_type": "markdown",
      "source": [
        "***Transliterate Unicode string into Buckwalter***"
      ],
      "metadata": {
        "id": "YF3drlgtXaT1"
      }
    },
    {
      "cell_type": "code",
      "execution_count": null,
      "metadata": {
        "id": "-VrMXVp_Sta1"
      },
      "outputs": [],
      "source": [
        "arabic = {\"'\":\"ء\", \"|\":\"آ\", \"?\":\"أ\", \"&\":\"ؤ\", \"<\":\"إ\", \"}\":\"ئ\", \"A\":\"ا\", \"b\":\"ب\", \"p\":\"ة\", \"t\":\"ت\", \"v\":\"ث\", \"g\":\"ج\", \"H\":\"ح\", \"x\":\"خ\", \"d\":\"د\", \"*\":\"ذ\", \"r\":\"ر\", \"z\":\"ز\", \"s\":\"س\", \"$\":\"ش\", \"S\":\"ص\", \"D\":\"ض\", \"T\":\"ط\", \"Z\":\"ظ\", \"E\":\"ع\", \"G\":\"غ\", \"_\":\"ـ\", \"f\":\"ف\", \"q\":\"ق\", \"k\":\"ك\", \"l\":\"ل\", \"m\":\"م\", \"n\":\"ن\", \"h\":\"ه\", \"w\":\"و\", \"Y\":\"ى\", \"y\":\"ي\", \"F\":\"ً\", \"N\":\"ٌ\", \"K\":\"ٍ\", \"~\":\"ّ\", \"\":\"ْ\", \"u\":\"ُ\", \"a\":\"َ\", \"i\":\"ِ\", \"{\":\"ا\"}    \n",
        "\n",
        "def transString(string, reverse=0):\n",
        "  '''To go from Buckwalter back to Unicode, set reverse=1'''\n",
        "\n",
        "  for k, v in arabic.items():\n",
        "    if not reverse:\n",
        "        string = string.replace(v, k)\n",
        "    else:\n",
        "        string = string.replace(k, v)\n",
        "\n",
        "  return string"
      ]
    }
  ]
}